{
 "cells": [
  {
   "cell_type": "markdown",
   "metadata": {},
   "source": [
    "# **Transfer learning**\n",
    "\n",
    "**By:** Pedro Ruiz  \n",
    "\n",
    "---\n",
    "\n",
    "Este Notebook busca validar la viabilidad de especializar un modelo genérico, como ResNet50 preentrenado en ImageNet, en un conjunto de categorías que le vamos a proporcionar. El objetivo es demostrar que con un ajuste fino adecuado podemos obtener un clasificador eficiente con un conjunto de datos reducido.\n",
    "\n",
    "Realizaremos las siguientes operaciones:\n",
    "\n",
    "1. **Importaciones**\n",
    "2. **Configuraciones**\n",
    "3. **Carga del modelo preentrenado**\n",
    "4. **Congelación de capas**\n",
    "5. **Preprocesado**\n",
    "6. **Entrenamiento**\n",
    "7. **Resultados**\n",
    "\n",
    "\n",
    "## 1. Importaciones"
   ]
  },
  {
   "cell_type": "code",
   "execution_count": 1,
   "metadata": {},
   "outputs": [],
   "source": [
    "import os\n",
    "import configparser\n",
    "import torch\n",
    "import torch.nn as nn\n",
    "import torch.optim as optim\n",
    "from torch.utils.data import DataLoader, random_split, Subset\n",
    "from torchvision import transforms\n",
    "import torchvision.models as models\n",
    "from PIL import Image\n",
    "import random\n",
    "import numpy as np\n",
    "from tqdm import tqdm\n",
    "import matplotlib.pyplot as plt"
   ]
  },
  {
   "cell_type": "markdown",
   "metadata": {},
   "source": [
    "## 2. Configuración\n",
    "\n",
    "En esta sección, estableceremos las condiciones necesarias para el entrenamiento del modelo.\n",
    "\n",
    "Primero, fijaremos una **semilla** para asegurar la reproducibilidad de los resultados al trabajar con algoritmos estocásticos. Luego, cargaremos la **configuración** desde el archivo correspondiente y, finalmente, gestionaremos el uso del **dispositivo de cómputo** para aprovechar al máximo los recursos disponibles.\n"
   ]
  },
  {
   "cell_type": "code",
   "execution_count": 2,
   "metadata": {},
   "outputs": [
    {
     "name": "stdout",
     "output_type": "stream",
     "text": [
      "Usando dispositivo: cuda\n",
      "Batch size configurado: 8\n",
      "Número de épocas configurado: 20\n",
      "Learning rate configurado: 0.0005\n",
      "Proporción de validación configurada: 0.2\n"
     ]
    }
   ],
   "source": [
    "# Establecemos una semilla\n",
    "seed = 42                                                               # Definimos la semilla,\n",
    "random.seed(seed)                                                       # y la fijamos para la aleatoriedad,\n",
    "np.random.seed(seed)                                                    # aplicamos para NumPy\n",
    "torch.manual_seed(seed)                                                 # y para PyTorch en la CPU\n",
    "if torch.cuda.is_available():                                           # Si tenemos una GPU CUDA disponible\n",
    "    torch.cuda.manual_seed(seed)                                        # fijamos la semilla en GPU\n",
    "    torch.backends.cudnn.deterministic = True                           # Forzamos que las convoluciones sean deterministas\n",
    "    torch.backends.cudnn.benchmark = False                              # y deshabilitamos el modo benchmark para evitar variaciones\n",
    "\n",
    "# Configuración\n",
    "notebook_dir = os.getcwd()                                              # Obtenemos el directorio actual\n",
    "project_root = os.path.abspath(os.path.join(notebook_dir, '..'))        # y el directorio raíz del proyecto\n",
    "\n",
    "config = configparser.ConfigParser()\n",
    "config_path = os.path.join(project_root, 'config', 'settings.conf')     \n",
    "config.read(config_path)                                                # Leemos el archivo de configuración                             \n",
    "\n",
    "device = torch.device(\"cuda\" if torch.cuda.is_available() else \"cpu\")   # Seleccionamos \"cuda\" si hay GPU, sino usamos la \"cpu\"\n",
    "\n",
    "processed_data_path = os.path.join(project_root, config['data']['processed_data_path'])\n",
    "transfers_path = os.path.join(project_root, config['data']['transfers_path'])\n",
    "os.makedirs(transfers_path, exist_ok=True)                              # Creamos el directorio si no existe\n",
    "\n",
    "batch_size = int(config['finetune']['batch_size'])                      # Tamaño de batch\n",
    "num_epochs = int(config['finetune']['num_epochs'])                      # Número de épocas\n",
    "learning_rate = float(config['finetune']['learning_rate'])              # Tasa de aprendizaje\n",
    "valid_split = float(config['finetune']['valid_split'])                  # Porcentaje de validación\n",
    "\n",
    "print(f\"Usando dispositivo: {device}\")\n",
    "print(f\"Batch size configurado: {batch_size}\")\n",
    "print(f\"Número de épocas configurado: {num_epochs}\")\n",
    "print(f\"Learning rate configurado: {learning_rate}\")\n",
    "print(f\"Proporción de validación configurada: {valid_split}\")"
   ]
  },
  {
   "cell_type": "markdown",
   "metadata": {},
   "source": [
    "A continuación, crearemos una **clase** para gestionar el *dataset* organizado por **clases en directorios**.\n",
    "\n",
    "- **Detecta** las carpetas de conjunto como *clases* y les asigna **índices numéricos**.\n",
    "- **Busca** imágenes `.jpg` dentro de las subcarpetas, asociándolas a la *clase correspondiente*.\n",
    "- **Aplica** el *preprocesamiento* a las imágenes antes de retornarlas."
   ]
  },
  {
   "cell_type": "code",
   "execution_count": null,
   "metadata": {},
   "outputs": [],
   "source": [
    "class ProcessedDataset(torch.utils.data.Dataset):\n",
    "    def __init__(self, root, transform=None):                           # El constructor recibe la ruta de datos y una posible transformación,\n",
    "        self.root = root                                                # almacenamos la ruta raíz, la transformación (si la hay) y las listas de imágenes y etiquetas\n",
    "        self.transform = transform\n",
    "        self.images = []\n",
    "        self.labels = []\n",
    "\n",
    "        # Identificación de clases\n",
    "        self.classes = [d for d in os.listdir(root) if os.path.isdir(os.path.join(root,d))]         # Creamos una lista con las clases encontradas en el directorio raíz\n",
    "        self.classes.sort()                                                                         # ordenamos alfabéticamente\n",
    "        self.class_to_idx = {cls_name: i for i, cls_name in enumerate(self.classes)}                # y creamos un diccionario de mapeo de clases a índices\n",
    "\n",
    "        # Bucle de alimentación\n",
    "        for cls in self.classes:\n",
    "            cls_path = os.path.join(root, cls)                                                      # Ruta de la clase actual\n",
    "            for video_dir in os.listdir(cls_path):                                                  # Iteramos sobre cada directorio dentro de la clase\n",
    "                video_path = os.path.join(cls_path, video_dir)                                      # Ruta del vídeo\n",
    "                if os.path.isdir(video_path):                                                       # Si es un directorio (un vídeo),\n",
    "                    for frame_name in os.listdir(video_path):                                       # iteramos sobre cada frame\n",
    "                        if frame_name.endswith('.jpg'):                                             # contemplando sólo los archivos .jpg\n",
    "                            frame_path = os.path.join(video_path, frame_name)                       # Ruta del fotograma\n",
    "                            self.images.append(frame_path)                                          # Añadimos la ruta del frame a la lista\n",
    "                            self.labels.append(self.class_to_idx[cls])                              # y la etiqueta de la clase a la que corresponde.\n",
    "\n",
    "    def __len__(self):                                                  # Número total de imágenes en el dataset\n",
    "        return len(self.images)                                         \n",
    "\n",
    "    def __getitem__(self, idx):                                         # Obtener un elemento (imagen, etiqueta) dado un índice\n",
    "        img_path = self.images[idx]                                     # Extraemos la ruta de la imagen correspondiente al índice,\n",
    "        label = self.labels[idx]                                        # la etiqueta correspondiente.\n",
    "        img = Image.open(img_path).convert(\"RGB\")                       # Abrimos la imagen y la transformamos a RGB\n",
    "        if self.transform:                                              # Si definimos más transformaciones las aplicamos\n",
    "            img = self.transform(img)\n",
    "        return img, label"
   ]
  },
  {
   "cell_type": "markdown",
   "metadata": {},
   "source": [
    "## 3. Preprocesado  \n",
    "\n",
    "En este apartado, llevaremos a cabo el *preprocesamiento* de las imágenes del *dataset*. Para lograrlo, definiremos una serie de transformaciones que se aplicarán a cada imagen antes de que se utilicen en el entrenamiento del modelo. Estas transformaciones incluyen:  \n",
    "\n",
    "- **El ajuste del tamaño de las imágenes** a *224x224 píxeles*.  \n",
    "- **La conversión a tensores**.  \n",
    "- **La normalización de los píxeles** según los parámetros de *ImageNet*.  \n",
    "\n",
    "Posteriormente, inicializaremos el *dataset* con la clase `ProcessedDataset` y aplicaremos las transformaciones especificadas. Además, aprovecharemos para:  \n",
    "- Extraer las clases presentes.  \n",
    "- Calcular el número total de clases y de imágenes.  \n",
    "\n",
    "Esto nos dará una **visión general** del conjunto de datos. "
   ]
  },
  {
   "cell_type": "code",
   "execution_count": 41,
   "metadata": {},
   "outputs": [
    {
     "name": "stdout",
     "output_type": "stream",
     "text": [
      "Clases: ['cooking', 'traffic', 'videoclip'] -- Nº Clases: 3\n",
      "Nº total de frames almacenados en processed/: 419456\n"
     ]
    }
   ],
   "source": [
    "# Transformaciones\n",
    "transform = transforms.Compose([\n",
    "    transforms.Resize((224, 224)),                                                          # Ajustamos el tamaño de la imagen a 224x224,\n",
    "    transforms.ToTensor(),                                                                  # transformamos las imágenes a tensores\n",
    "    transforms.Normalize(                                                                   # y normalizamos con parámetros de ImageNet\n",
    "        mean=[0.485, 0.456, 0.406],\n",
    "        std=[0.229, 0.224, 0.225]\n",
    "    )\n",
    "])\n",
    "\n",
    "# Dataset con las transformaciones\n",
    "dataset = ProcessedDataset(root=processed_data_path)                                        # Inicializamos el dataset,\n",
    "class_names = dataset.classes                                                               # extraemos las clases y calculamos su número\n",
    "num_classes = len(class_names)\n",
    "print(\"Clases:\", class_names, f\"-- Nº Clases: {num_classes}\")\n",
    "print(f\"Nº total de frames almacenados en processed/: {len(dataset)}\")"
   ]
  },
  {
   "cell_type": "code",
   "execution_count": 42,
   "metadata": {},
   "outputs": [
    {
     "name": "stdout",
     "output_type": "stream",
     "text": [
      "104864 muestras. Representación de un cuarto del conjunto\n",
      "Dataset resultante: 104864\n",
      "Train samples: 83892, Val samples: 20972\n"
     ]
    }
   ],
   "source": [
    "# Subset\n",
    "max_samples = len(dataset) // 4                                                             # Calculamos el máximo de muestras con un cuarto del dataset\n",
    "print(f\"{max_samples} muestras. Representación de un cuarto del conjunto\")\n",
    "\n",
    "# Reducción del dataset\n",
    "if len(dataset) > max_samples:                                                              # Si el dataset tiene más muestras las indicadas:\n",
    "    indices = list(range(len(dataset)))                                                     # Creamos una lista de índices,\n",
    "    random.shuffle(indices)                                                                 # los barajamos aleatoriamente,\n",
    "    sampled_indices = indices[:max_samples]                                                 # Seleccionamos  los primeros hasta llegar al maximo permitido\n",
    "    dataset = Subset(dataset, sampled_indices)                                              # y creamos un subset.\n",
    "    print(f\"Dataset resultante: {len(dataset)}\")\n",
    "\n",
    "# Split Train/Val\n",
    "val_size = int(len(dataset) * valid_split)                                                  # Calculamos el tamaño de validación y de entrenamiento\n",
    "train_size = len(dataset) - val_size\n",
    "train_dataset, val_dataset = random_split(dataset, [train_size, val_size])                  # y dividimos el dataset.\n",
    "print(f\"Train samples: {len(train_dataset)}, Val samples: {len(val_dataset)}\")\n",
    "\n",
    "# DataLoaders\n",
    "train_loader = DataLoader(train_dataset, batch_size=batch_size, shuffle=True)               # Creamos el DataLoaders para el entrenamiento y lo barajamos\n",
    "val_loader = DataLoader(val_dataset, batch_size=batch_size, shuffle=False)\n"
   ]
  },
  {
   "cell_type": "markdown",
   "metadata": {},
   "source": [
    "## 4. Entrenamiento  \n",
    "\n",
    "A continuación, llevaremos a cabo el **ajuste fino** del modelo y su entrenamiento para adaptarlo a nuestro conjunto. El proceso incluirá los siguientes pasos:  \n",
    "\n",
    "1. **Se cargará el modelo *ResNet50* preentrenado en *ImageNet***.  \n",
    "2. **Congelaremos las capas del modelo** para preservar las características aprendidas en *ImageNet*.  \n",
    "3. **Adaptaremos la capa final** del modelo para que coincida con el número de clases de nuestro conjunto de datos.  \n",
    "4. Utilizaremos la **entropía cruzada** como función de pérdida y el optimizador **Adam** para ajustar los pesos de la capa final.  \n",
    "5. **Entrenaremos el modelo** utilizando el conjunto de datos de entrenamiento y validación, aplicando técnicas de *early stopping* para evitar el sobreajuste.  "
   ]
  },
  {
   "cell_type": "code",
   "execution_count": 38,
   "metadata": {},
   "outputs": [
    {
     "name": "stderr",
     "output_type": "stream",
     "text": [
      "Training Epoch 1/20: 100%|██████████| 10487/10487 [05:52<00:00, 29.77it/s]\n",
      "Validation Epoch 1/20: 100%|██████████| 2622/2622 [01:41<00:00, 25.81it/s]\n"
     ]
    },
    {
     "name": "stdout",
     "output_type": "stream",
     "text": [
      "Epoch 1: Train Loss=0.0753, Val Loss=0.0377\n",
      "Modelo guardado en ../data/models/transfers\\resnet_finetuned.pth\n"
     ]
    },
    {
     "name": "stderr",
     "output_type": "stream",
     "text": [
      "Training Epoch 2/20: 100%|██████████| 10487/10487 [05:08<00:00, 33.99it/s]\n",
      "Validation Epoch 2/20: 100%|██████████| 2622/2622 [01:16<00:00, 34.22it/s]\n"
     ]
    },
    {
     "name": "stdout",
     "output_type": "stream",
     "text": [
      "Epoch 2: Train Loss=0.0465, Val Loss=0.0371\n",
      "Modelo guardado en ../data/models/transfers\\resnet_finetuned.pth\n"
     ]
    },
    {
     "name": "stderr",
     "output_type": "stream",
     "text": [
      "Training Epoch 3/20: 100%|██████████| 10487/10487 [05:11<00:00, 33.70it/s]\n",
      "Validation Epoch 3/20: 100%|██████████| 2622/2622 [01:23<00:00, 31.52it/s]\n"
     ]
    },
    {
     "name": "stdout",
     "output_type": "stream",
     "text": [
      "Epoch 3: Train Loss=0.0418, Val Loss=0.0400\n",
      "Sin mejora en validación durante 1 épocas seguidas.\n"
     ]
    },
    {
     "name": "stderr",
     "output_type": "stream",
     "text": [
      "Training Epoch 4/20: 100%|██████████| 10487/10487 [05:24<00:00, 32.32it/s]\n",
      "Validation Epoch 4/20: 100%|██████████| 2622/2622 [01:15<00:00, 34.50it/s]\n"
     ]
    },
    {
     "name": "stdout",
     "output_type": "stream",
     "text": [
      "Epoch 4: Train Loss=0.0375, Val Loss=0.0359\n",
      "Modelo guardado en ../data/models/transfers\\resnet_finetuned.pth\n"
     ]
    },
    {
     "name": "stderr",
     "output_type": "stream",
     "text": [
      "Training Epoch 5/20: 100%|██████████| 10487/10487 [05:10<00:00, 33.77it/s]\n",
      "Validation Epoch 5/20: 100%|██████████| 2622/2622 [01:16<00:00, 34.41it/s]\n"
     ]
    },
    {
     "name": "stdout",
     "output_type": "stream",
     "text": [
      "Epoch 5: Train Loss=0.0371, Val Loss=0.0313\n",
      "Modelo guardado en ../data/models/transfers\\resnet_finetuned.pth\n"
     ]
    },
    {
     "name": "stderr",
     "output_type": "stream",
     "text": [
      "Training Epoch 6/20: 100%|██████████| 10487/10487 [05:02<00:00, 34.66it/s]\n",
      "Validation Epoch 6/20: 100%|██████████| 2622/2622 [01:15<00:00, 34.55it/s]\n"
     ]
    },
    {
     "name": "stdout",
     "output_type": "stream",
     "text": [
      "Epoch 6: Train Loss=0.0357, Val Loss=0.0305\n",
      "Modelo guardado en ../data/models/transfers\\resnet_finetuned.pth\n"
     ]
    },
    {
     "name": "stderr",
     "output_type": "stream",
     "text": [
      "Training Epoch 7/20: 100%|██████████| 10487/10487 [05:03<00:00, 34.59it/s]\n",
      "Validation Epoch 7/20: 100%|██████████| 2622/2622 [01:14<00:00, 35.12it/s]\n"
     ]
    },
    {
     "name": "stdout",
     "output_type": "stream",
     "text": [
      "Epoch 7: Train Loss=0.0350, Val Loss=0.0337\n",
      "Sin mejora en validación durante 1 épocas seguidas.\n"
     ]
    },
    {
     "name": "stderr",
     "output_type": "stream",
     "text": [
      "Training Epoch 8/20: 100%|██████████| 10487/10487 [05:06<00:00, 34.24it/s]\n",
      "Validation Epoch 8/20: 100%|██████████| 2622/2622 [01:14<00:00, 35.16it/s]\n"
     ]
    },
    {
     "name": "stdout",
     "output_type": "stream",
     "text": [
      "Epoch 8: Train Loss=0.0335, Val Loss=0.0353\n",
      "Sin mejora en validación durante 2 épocas seguidas.\n"
     ]
    },
    {
     "name": "stderr",
     "output_type": "stream",
     "text": [
      "Training Epoch 9/20: 100%|██████████| 10487/10487 [05:07<00:00, 34.14it/s]\n",
      "Validation Epoch 9/20: 100%|██████████| 2622/2622 [01:13<00:00, 35.52it/s]\n"
     ]
    },
    {
     "name": "stdout",
     "output_type": "stream",
     "text": [
      "Epoch 9: Train Loss=0.0337, Val Loss=0.0348\n",
      "Sin mejora en validación durante 3 épocas seguidas.\n"
     ]
    },
    {
     "name": "stderr",
     "output_type": "stream",
     "text": [
      "Training Epoch 10/20: 100%|██████████| 10487/10487 [05:08<00:00, 34.01it/s]\n",
      "Validation Epoch 10/20: 100%|██████████| 2622/2622 [01:16<00:00, 34.11it/s]\n"
     ]
    },
    {
     "name": "stdout",
     "output_type": "stream",
     "text": [
      "Epoch 10: Train Loss=0.0329, Val Loss=0.0343\n",
      "Sin mejora en validación durante 4 épocas seguidas.\n"
     ]
    },
    {
     "name": "stderr",
     "output_type": "stream",
     "text": [
      "Training Epoch 11/20: 100%|██████████| 10487/10487 [05:10<00:00, 33.82it/s]\n",
      "Validation Epoch 11/20: 100%|██████████| 2622/2622 [01:17<00:00, 33.74it/s]"
     ]
    },
    {
     "name": "stdout",
     "output_type": "stream",
     "text": [
      "Epoch 11: Train Loss=0.0335, Val Loss=0.0340\n",
      "Sin mejora en validación durante 5 épocas seguidas.\n",
      "Deteniendo el entrenamiento en la época 11 por early stopping.\n"
     ]
    },
    {
     "name": "stderr",
     "output_type": "stream",
     "text": [
      "\n"
     ]
    }
   ],
   "source": [
    "# Modelo preentrenado\n",
    "model = models.resnet50(weights=models.ResNet50_Weights.IMAGENET1K_V2)\n",
    "\n",
    "# Congelar capas\n",
    "for param in model.parameters():                                                    # Iteramos los parámetros del modelo\n",
    "    param.requires_grad = False                                                     # y los congelamos para que no se actualicen durante el entrenamiento\n",
    "\n",
    "# Reemplazar capa final\n",
    "in_features = model.fc.in_features                                                  # Extraemos el número de características de entrada de la capa final,\n",
    "model.fc = nn.Linear(in_features, num_classes)                                      # reemplazamos la capa final para que coincida con las clases de nuestro conjunto\n",
    "model = model.to(device)                                                            # y movemos el modelo al dispositivo.\n",
    "\n",
    "# Función de pérdida y optimizador\n",
    "criterion = nn.CrossEntropyLoss()                                                   # Definimos la función de pérdida como entropía cruzada\n",
    "optimizer = optim.Adam(model.fc.parameters(), lr=learning_rate)                     # Usamos el optimizador Adam para ajustar los pesos de la capa final\n",
    "\n",
    "best_val_loss = float('inf')                                                        # Inicializamos la mejor pérdida de validación como infinito\n",
    "train_losses = []                                                                   # e inicializamos las listas para almacenar las pérdidas de entrenamiento\n",
    "val_losses = []\n",
    "\n",
    "# Early Stopping\n",
    "patience = 5                                                                        # Definimos la paciencia para early stopping\n",
    "counter = 0                                                                         # Contador para el número de épocas sin mejora\n",
    "\n",
    "for epoch in range(num_epochs):                                                     # Iteramos sobre el número de épocas\n",
    "    model.train()                                                                   # Ponemos el modelo en modo de entrenamiento\n",
    "    running_loss = 0.0                                                              # e inicializamos la pérdida acumulada y el total de muestras\n",
    "    total_train = 0\n",
    "\n",
    "    # Bucle de entrenamiento\n",
    "    for images, labels in tqdm(train_loader, desc=f\"Training Epoch {epoch+1}/{num_epochs}\"):        # Iteramos sobre el DataLoader de entrenamiento\n",
    "        images, labels = images.to(device), labels.to(device)                       # Movemos las imágenes y etiquetas al dispositivo,\n",
    "        optimizer.zero_grad()                                                       # reiniciamos los gradientes del optimizador,\n",
    "        outputs = model(images)                                                     # obtenemos las predicciones,\n",
    "        loss = criterion(outputs, labels)                                           # calculamos la pérdida,\n",
    "        loss.backward()                                                             # calculamos los gradientes,\n",
    "        optimizer.step()                                                            # actualizamos los pesos,\n",
    "        running_loss += loss.item() * images.size(0)                                # acumulamos la pérdida y el total de muestras\n",
    "        total_train += images.size(0)\n",
    "\n",
    "    epoch_loss = running_loss / total_train                                         # Calculamos la pérdida promedio de la época\n",
    "    train_losses.append(epoch_loss)                                                 # y añadimos la pérdida de entrenamiento a la lista\n",
    "\n",
    "    # Validación\n",
    "    model.eval()                                                                    # Ponemos el modelo en modo de evaluación\n",
    "    val_running_loss = 0.0                                                          # Inicializamos la pérdida acumulada de validación\n",
    "    val_total = 0                                                                   # Inicializamos el total de muestras de validación\n",
    "    with torch.no_grad():                                                           # Desactivamos el cálculo de gradientes\n",
    "        for images, labels in tqdm(val_loader, desc=f\"Validation Epoch {epoch+1}/{num_epochs}\"):        # Iteramos sobre el DataLoader de validación\n",
    "            images, labels = images.to(device), labels.to(device)                   # Movemos las imágenes y etiquetas al dispositivo\n",
    "            outputs = model(images)                                                 # Obtenemos las predicciones del modelo\n",
    "            loss = criterion(outputs, labels)                                       # Calculamos la pérdida\n",
    "            val_running_loss += loss.item() * images.size(0)                        # Acumulamos la pérdida\n",
    "            val_total += images.size(0)                                             # Acumulamos el total de muestras\n",
    "\n",
    "    val_loss = val_running_loss / val_total                                         # Calculamos la pérdida promedio de la validación\n",
    "    val_losses.append(val_loss)                                                     # Añadimos la pérdida de validación a la lista\n",
    "\n",
    "    print(f\"Epoch {epoch+1}: Train Loss={epoch_loss:.4f}, Val Loss={val_loss:.4f}\") # Imprimimos las pérdidas de la época\n",
    "\n",
    "    # Early Stopping\n",
    "    if val_loss < best_val_loss:                                                    # Si la pérdida de validación es mejor que la mejor pérdida registrada\n",
    "        best_val_loss = val_loss                                                    # Actualizamos la mejor pérdida de validación\n",
    "        counter = 0                                                                 # Reiniciamos el contador de épocas sin mejora\n",
    "        best_model_path = os.path.join(transfers_path, 'resnet_finetuned.pth')      # Definimos la ruta para guardar el mejor modelo\n",
    "        torch.save({                                                                # Guardamos el estado del modelo y las clases\n",
    "            'model_state_dict': model.state_dict(),\n",
    "            'class_names': class_names\n",
    "        }, best_model_path)\n",
    "        print(f\"Modelo guardado en {best_model_path}\")                              # Imprimimos que el modelo ha sido guardado\n",
    "    else:                                                                           # Si no hay mejora en la pérdida de validación\n",
    "        counter += 1                                                                # Incrementamos el contador de épocas sin mejora\n",
    "        print(f\"Sin mejora en validación durante {counter} épocas seguidas.\")       # Imprimimos el número de épocas sin mejora\n",
    "        if counter >= patience:                                                     # Si el contador alcanza la paciencia definida\n",
    "            print(f\"Deteniendo el entrenamiento en la época {epoch+1} por early stopping.\")         # Imprimimos que se detiene el entrenamiento por early stopping\n",
    "            break "
   ]
  },
  {
   "cell_type": "markdown",
   "metadata": {},
   "source": [
    "## 5. Resultados"
   ]
  },
  {
   "cell_type": "code",
   "execution_count": 39,
   "metadata": {},
   "outputs": [
    {
     "data": {
      "image/png": "[encoded data removed]",
      "text/plain": [
       "<Figure size 1900x900 with 1 Axes>"
      ]
     },
     "metadata": {},
     "output_type": "display_data"
    }
   ],
   "source": [
    "plt.figure(figsize=(19,9))\n",
    "\n",
    "plt.plot(train_losses, label='Train Loss')\n",
    "plt.plot(val_losses, label='Val Loss')\n",
    "plt.xlabel('Época')\n",
    "plt.ylabel('Pérdida')\n",
    "plt.title('Entrenamiento y validación', fontsize=18)\n",
    "\n",
    "plt.legend()\n",
    "plt.show()"
   ]
  },
  {
   "cell_type": "code",
   "execution_count": 44,
   "metadata": {},
   "outputs": [
    {
     "name": "stdout",
     "output_type": "stream",
     "text": [
      "Pérdida promedio del entrenamiento: 0.0402\n",
      "Pérdida promedio de la validación: 0.0350\n",
      "Mejor época: 6. con una pérdida de validación: 0.0305\n"
     ]
    }
   ],
   "source": [
    "average_train_loss = sum(train_losses) / len(train_losses)\n",
    "average_val_loss = sum(val_losses) / len(val_losses)\n",
    "best_epoch = val_losses.index(min(val_losses)) + 1\n",
    "best_val_loss = min(val_losses)\n",
    "\n",
    "print(f\"Pérdida promedio del entrenamiento: {average_train_loss:.4f}\")\n",
    "print(f\"Pérdida promedio de la validación: {average_val_loss:.4f}\")\n",
    "print(f\"Mejor época: {best_epoch}. con una pérdida de validación: {best_val_loss:.4f}\")"
   ]
  },
  {
   "cell_type": "markdown",
   "metadata": {},
   "source": [
    "La gráfica muestra una **reducción constante** durante las primeras seis épocas, **indicando un aprendizaje bastante bueno**. A partir de la sexta época, la pérdida en validación **comienza a aumentar y luego se estabiliza**. Tras algunas épocas adicionales sin mejoras, el proceso de *early stopping* detiene el entrenamiento. Esto **revela signos de *overfitting***, donde el modelo comienza a **memorizar los datos de entrenamiento** en lugar de generalizar.\n",
    "\n",
    "Según los resultados obtenidos, **la mejor época fue la sexta**, con pérdidas promedio **muy similares** entre el entrenamiento y la validación. Parece que **la regularización y los hiperparámetros están bien ajustados**. Además, el desempeño del modelo en validación es **razonable**, con una **diferencia muy pequeña** respecto al entrenamiento."
   ]
  }
 ],
 "metadata": {
  "kernelspec": {
   "display_name": "spark",
   "language": "python",
   "name": "python3"
  },
  "language_info": {
   "codemirror_mode": {
    "name": "ipython",
    "version": 3
   },
   "file_extension": ".py",
   "mimetype": "text/x-python",
   "name": "python",
   "nbconvert_exporter": "python",
   "pygments_lexer": "ipython3",
   "version": "3.8.19"
  }
 },
 "nbformat": 4,
 "nbformat_minor": 2
}
